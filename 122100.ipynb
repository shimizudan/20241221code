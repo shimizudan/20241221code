{
 "cells": [
  {
   "cell_type": "markdown",
   "metadata": {},
   "source": [
    "【今朝の問題】\n",
    "240cmの木を、30cm、40cm、30cm、40cm、……と順に切っていきます。1回切るのに7分かかり、1回切った後3分休みます。\n",
    "全部切り終わるまでに何分かかるでしょう？"
   ]
  },
  {
   "cell_type": "code",
   "execution_count": null,
   "metadata": {},
   "outputs": [
    {
     "data": {
      "text/plain": [
       "57"
      ]
     },
     "metadata": {},
     "output_type": "display_data"
    }
   ],
   "source": [
    "# l = 240   木の長さ\n",
    "# i = 30    木の間隔\n",
    "# s = 7     木を切る時間\n",
    "# r = 3     休憩時間\n",
    "# t = 0     かかった時間\n",
    "\n",
    "function cut_tree(l=240,i=30,s=7,r=3)\n",
    "    t = 0\n",
    "    while l > i\n",
    "        l -= i\n",
    "        t += s\n",
    "        if i == 30\n",
    "            i = 40\n",
    "        else i = 30\n",
    "        end\n",
    "        if l > i\n",
    "            t += r\n",
    "        end\n",
    "    end\n",
    "    t\n",
    "end\n",
    "\n",
    "cut_tree()"
   ]
  },
  {
   "cell_type": "code",
   "execution_count": 16,
   "metadata": {},
   "outputs": [
    {
     "name": "stdout",
     "output_type": "stream",
     "text": [
      "全部切り終わるまでにかかる時間: 67 分\n"
     ]
    }
   ],
   "source": [
    "function cutting_time(total_length, cut_lengths, cut_time, rest_time)\n",
    "    remaining_length = total_length\n",
    "    total_time = 0\n",
    "    cut_index = 1\n",
    "\n",
    "    while remaining_length > 0\n",
    "        # 現在の切断の長さを取得\n",
    "        cut_length = cut_lengths[cut_index]\n",
    "        \n",
    "        if remaining_length >= cut_length\n",
    "            remaining_length -= cut_length\n",
    "        else\n",
    "            break # 残りの長さがカット長を下回る場合、終了\n",
    "        end\n",
    "        \n",
    "        total_time += cut_time # 切る時間を加算\n",
    "\n",
    "        if remaining_length > 0\n",
    "            total_time += rest_time # 休憩時間を加算（最後の切断後は加算しない）\n",
    "        end\n",
    "        \n",
    "        cut_index = (cut_index % length(cut_lengths)) + 1 # 次の切断長に切り替え\n",
    "    end\n",
    "\n",
    "    return total_time\n",
    "end\n",
    "\n",
    "# パラメータの設定\n",
    "total_length = 240            # 木の長さ\n",
    "cut_lengths = [30, 40]        # 切る長さのパターン\n",
    "cut_time = 7                  # 1回切るのにかかる時間（分）\n",
    "rest_time = 3                 # 休憩時間（分）\n",
    "\n",
    "# 計算\n",
    "time_required = cutting_time(total_length, cut_lengths, cut_time, rest_time)\n",
    "println(\"全部切り終わるまでにかかる時間: $time_required 分\")"
   ]
  },
  {
   "cell_type": "code",
   "execution_count": 17,
   "metadata": {},
   "outputs": [
    {
     "name": "stdout",
     "output_type": "stream",
     "text": [
      "全部切り終わるまでの時間: 57 分\n"
     ]
    }
   ],
   "source": [
    "function cut_tree(l=240, i=30, s=7, r=3)\n",
    "    t = 0\n",
    "    while l > i\n",
    "        l -= i\n",
    "        t += s\n",
    "        i = (i == 30) ? 40 : 30  # 条件を簡潔に\n",
    "        if l > i\n",
    "            t += r\n",
    "        end\n",
    "    end\n",
    "    return t  # 明示的にreturnを追加\n",
    "end\n",
    "\n",
    "println(\"全部切り終わるまでの時間: $(cut_tree()) 分\")"
   ]
  },
  {
   "cell_type": "code",
   "execution_count": null,
   "metadata": {},
   "outputs": [],
   "source": []
  }
 ],
 "metadata": {
  "kernelspec": {
   "display_name": "Julia 1.11.2",
   "language": "julia",
   "name": "julia-1.11"
  },
  "language_info": {
   "file_extension": ".jl",
   "mimetype": "application/julia",
   "name": "julia",
   "version": "1.11.2"
  }
 },
 "nbformat": 4,
 "nbformat_minor": 2
}
